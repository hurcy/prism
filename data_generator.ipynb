{
 "cells": [
  {
   "cell_type": "code",
   "execution_count": 5,
   "metadata": {},
   "outputs": [],
   "source": [
    "import os\n",
    "import sys\n",
    "import numpy as np\n",
    "import pandas as pd\n",
    "\n",
    "measur = pd.read_csv(\"./data/train/MEASUREMENT_NICU.csv\", encoding='windows-1252')\n",
    "condi = pd.read_csv(\"./data/train/CONDITION_OCCURRENCE_NICU.csv\", encoding='windows-1252')\n",
    "outcome = pd.read_csv(\"./data/train/OUTCOME_COHORT.csv\", encoding='windows-1252')\n",
    "person = pd.read_csv(\"./data/train/PERSON_NICU.csv\", encoding='windows-1252')\n",
    "\n",
    "list1 =np.zeros([10,2])\n",
    "\n",
    "list1[:,0]=range(10,20)\n",
    "list1[:,1]=300000\n",
    "\n",
    "for i,n in list1:\n",
    "    measure_copy= measur[:int(n)].copy()\n",
    "    measure_copy.PERSON_ID =int(i)\n",
    "    measur = pd.concat([measur,measure_copy],axis=0)\n",
    "\n",
    "measur.to_csv(\"./MEASUREMENT_NICU.csv\", encoding='windows-1252')\n",
    "\n",
    "list1 =np.zeros([10,2])\n",
    "\n",
    "list1[:,0]=range(10,20)\n",
    "list1[:,1]=100000\n",
    "\n",
    "condi_copy= condi.copy()\n",
    "\n",
    "for i in range(10,20):\n",
    "    condi_copy2= condi.copy()\n",
    "    condi_copy2.PERSON_ID =int(i)\n",
    "    condi_copy = pd.concat([condi_copy,condi_copy2],axis=0)\n",
    "    \n",
    "\n",
    "condi_copy.to_csv(\"./CONDITION_OCCURRENCE_NICU.csv\", encoding='windows-1252')\n",
    "\n",
    "import random\n",
    "np.random.choice(2,1,p=[0.8,0.2])[0]"
   ]
  },
  {
   "cell_type": "code",
   "execution_count": 6,
   "metadata": {},
   "outputs": [
    {
     "name": "stdout",
     "output_type": "stream",
     "text": [
      "1\n",
      "1\n"
     ]
    }
   ],
   "source": [
    "for i in range(10,20):\n",
    "    outcome_copy = outcome[:200].copy()\n",
    "    outcome_copy.SUBJECT_ID =int(i)\n",
    "    if np.random.choice(2,1,p=[0.6,0.4])[0] == 1:\n",
    "        print(\"1\")\n",
    "        outcome_copy.LABEL = np.random.choice(2,200,p=[0.9,0.1])\n",
    "    outcome = pd.concat([outcome,outcome_copy],axis=0)\n",
    "\n",
    "outcome.to_csv(\"./OUTCOME_COHORT.csv\", encoding='windows-1252')\n",
    "\n",
    "person_copy= person.copy()\n",
    "\n",
    "for i in range(10,20):\n",
    "    person_copy2 = person.copy()\n",
    "    person_copy2.PERSON_ID =int(i)\n",
    "    person_copy = pd.concat([person_copy,person_copy2],axis=0)\n",
    "\n",
    "person_copy.to_csv(\"./PERSON_NICU.csv\", encoding='windows-1252')"
   ]
  },
  {
   "cell_type": "code",
   "execution_count": null,
   "metadata": {},
   "outputs": [],
   "source": [
    "measur.shape"
   ]
  },
  {
   "cell_type": "code",
   "execution_count": null,
   "metadata": {},
   "outputs": [],
   "source": []
  }
 ],
 "metadata": {
  "kernelspec": {
   "display_name": "park",
   "language": "python",
   "name": "park"
  },
  "language_info": {
   "codemirror_mode": {
    "name": "ipython",
    "version": 3
   },
   "file_extension": ".py",
   "mimetype": "text/x-python",
   "name": "python",
   "nbconvert_exporter": "python",
   "pygments_lexer": "ipython3",
   "version": "3.7.5"
  }
 },
 "nbformat": 4,
 "nbformat_minor": 4
}
